{
 "cells": [
  {
   "cell_type": "code",
   "execution_count": 1,
   "metadata": {},
   "outputs": [],
   "source": [
    "from pytrends.request import TrendReq\n",
    "import pandas as pd"
   ]
  },
  {
   "cell_type": "code",
   "execution_count": 17,
   "metadata": {},
   "outputs": [],
   "source": [
    "from matplotlib import pyplot as plt\n",
    "%matplotlib inline\n",
    "plt.style.use(['dark_background', 'seaborn-talk'])"
   ]
  },
  {
   "cell_type": "code",
   "execution_count": 67,
   "metadata": {},
   "outputs": [],
   "source": [
    "keyword = ['Super Bowl', 'Germanwings Flight 9525', 'Charlie Hebdo', 'Ferguson unrest']\n",
    "pytrend = TrendReq(hl='en-WORLD')"
   ]
  },
  {
   "cell_type": "code",
   "execution_count": 68,
   "metadata": {},
   "outputs": [],
   "source": [
    "pytrend.build_payload(kw_list=keyword, timeframe='2014-10-23 2014-12-30', geo='', gprop='')"
   ]
  },
  {
   "cell_type": "code",
   "execution_count": 69,
   "metadata": {},
   "outputs": [
    {
     "name": "stdout",
     "output_type": "stream",
     "text": [
      "            Super Bowl  Germanwings Flight 9525  Charlie Hebdo  \\\n",
      "date                                                             \n",
      "2014-10-23          16                        0              0   \n",
      "2014-10-24          22                        0              0   \n",
      "2014-10-25          17                        0              0   \n",
      "2014-10-26          30                        0              0   \n",
      "2014-10-27          25                        0              0   \n",
      "\n",
      "            Ferguson unrest  isPartial  \n",
      "date                                    \n",
      "2014-10-23                0      False  \n",
      "2014-10-24                0      False  \n",
      "2014-10-25                0      False  \n",
      "2014-10-26                0      False  \n",
      "2014-10-27                0      False  \n"
     ]
    }
   ],
   "source": [
    "interest_over_time_df = pytrend.interest_over_time()\n",
    "print(interest_over_time_df.head())"
   ]
  },
  {
   "cell_type": "code",
   "execution_count": null,
   "metadata": {},
   "outputs": [],
   "source": [
    "interest_over_time_df.plot()"
   ]
  },
  {
   "cell_type": "code",
   "execution_count": null,
   "metadata": {},
   "outputs": [],
   "source": []
  }
 ],
 "metadata": {
  "kernelspec": {
   "display_name": "Python 3",
   "language": "python",
   "name": "python3"
  },
  "language_info": {
   "codemirror_mode": {
    "name": "ipython",
    "version": 3
   },
   "file_extension": ".py",
   "mimetype": "text/x-python",
   "name": "python",
   "nbconvert_exporter": "python",
   "pygments_lexer": "ipython3",
   "version": "3.6.4"
  }
 },
 "nbformat": 4,
 "nbformat_minor": 2
}
